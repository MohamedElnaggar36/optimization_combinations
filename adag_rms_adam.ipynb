{
 "cells": [
  {
   "cell_type": "markdown",
   "metadata": {},
   "source": [
    "## Adagrad, RMSProp and Adam with multivariable"
   ]
  },
  {
   "cell_type": "code",
   "execution_count": 2,
   "metadata": {},
   "outputs": [],
   "source": [
    "import numpy as np\n",
    "import matplotlib.pyplot as plt\n",
    "from sklearn.metrics import r2_score"
   ]
  },
  {
   "cell_type": "markdown",
   "metadata": {},
   "source": [
    "#### read and preapare data"
   ]
  },
  {
   "cell_type": "code",
   "execution_count": 3,
   "metadata": {},
   "outputs": [],
   "source": [
    "data = np.loadtxt(\"MultipleLR.csv\", delimiter=\",\")\n",
    "X = data[:, 0:3]\n",
    "ones = np.ones(len(X))\n",
    "X = np.insert(X, 0, ones, axis=1)\n",
    "y = data[:, -1]"
   ]
  },
  {
   "cell_type": "markdown",
   "metadata": {},
   "source": [
    "### 1 - Adagrad"
   ]
  },
  {
   "cell_type": "code",
   "execution_count": 4,
   "metadata": {},
   "outputs": [],
   "source": [
    "def gd_Adagrad_multivars(X, y, alpha, epsilon, iterations):\n",
    "    m, n = X.shape\n",
    "    thetas = np.zeros((n, 1))\n",
    "    J = []\n",
    "    v = 0\n",
    "    old_cost = 0\n",
    "    counter = 0\n",
    "    for _ in range(iterations):\n",
    "        hyp = np.dot(X, thetas)\n",
    "\n",
    "        error = hyp - y\n",
    "        cost = np.sum(error**2) / (2 * m)\n",
    "        J.append(cost)\n",
    "\n",
    "        gradient = np.sum(X.T @ error) / m\n",
    "\n",
    "        v = v + gradient**2\n",
    "\n",
    "        thetas = thetas - ((alpha * gradient) / (np.sqrt(v) + epsilon))\n",
    "    \n",
    "        if abs(old_cost - cost) < 10:\n",
    "            break\n",
    "        old_cost = cost\n",
    "        counter += 1\n",
    "        \n",
    "    y_predicted = X @ thetas\n",
    "    return J, y_predicted, counter"
   ]
  },
  {
   "cell_type": "code",
   "execution_count": 5,
   "metadata": {},
   "outputs": [
    {
     "name": "stdout",
     "output_type": "stream",
     "text": [
      "it tooks 5 iteration\n",
      "r2_score = 0.9546488381944899\n"
     ]
    }
   ],
   "source": [
    "J, y_predicted, counter = gd_Adagrad_multivars(X, y, 0.5, 0.001, 1000)\n",
    "print(f\"it tooks {counter} iteration\")\n",
    "print(f\"r2_score = {r2_score(y_predicted, y)}\")"
   ]
  },
  {
   "cell_type": "markdown",
   "metadata": {},
   "source": [
    "### 2 - RMSProp "
   ]
  },
  {
   "cell_type": "code",
   "execution_count": 6,
   "metadata": {},
   "outputs": [],
   "source": [
    "def gd_RMSProp_multivars(X, y, alpha, beta, epsilon, iterations):\n",
    "    m, n = X.shape\n",
    "    thetas= np.zeros((n, 1))\n",
    "    J = []\n",
    "    v = 0\n",
    "    old_cost = 0\n",
    "    counter = 0\n",
    "    for _ in range(iterations):\n",
    "        hyp = np.dot(X, thetas)\n",
    "\n",
    "        error = hyp - y\n",
    "        cost = np.sum(error**2) / (2 * m)\n",
    "        J.append(cost)\n",
    "\n",
    "        gradient = np.sum(X.T @ error) / m\n",
    "\n",
    "        v = (beta * v) + ((1 - beta) * gradient**2)\n",
    "\n",
    "        thetas = thetas - ((alpha * gradient) / (np.sqrt(v) + epsilon))\n",
    "\n",
    "        if abs(old_cost - cost) < 1e-3:\n",
    "            break\n",
    "        old_cost = cost\n",
    "        counter += 1\n",
    "        \n",
    "    y_predicted = X @ thetas\n",
    "    return J, y_predicted, counter"
   ]
  },
  {
   "cell_type": "code",
   "execution_count": 7,
   "metadata": {},
   "outputs": [
    {
     "name": "stdout",
     "output_type": "stream",
     "text": [
      "it tooks 13 iteration\n",
      "r2_score = 0.9553177240764996\n"
     ]
    }
   ],
   "source": [
    "J, y_predicted, counter = gd_RMSProp_multivars(X, y, 0.1, 0.7, 1e-8, 1000)\n",
    "print(f\"it tooks {counter} iteration\")\n",
    "print(f\"r2_score = {r2_score(y_predicted, y)}\")"
   ]
  },
  {
   "cell_type": "markdown",
   "metadata": {},
   "source": [
    "### 3 - Adam"
   ]
  },
  {
   "cell_type": "code",
   "execution_count": 87,
   "metadata": {},
   "outputs": [],
   "source": [
    "def gd_adam_multivars(X, y, alpha, beta1, beta2, epsilon, iterations):\n",
    "    m, n = X.shape\n",
    "    thetas = np.zeros((n, 1))\n",
    "    J = []\n",
    "    v = 0\n",
    "    m_adam = 0\n",
    "    old_cost = 0\n",
    "    counter = 0\n",
    "    for _ in range(iterations):\n",
    "        hyp = np.dot(X, thetas)\n",
    "\n",
    "        error = hyp - y\n",
    "        cost = np.sum(error**2) / (2 * m)\n",
    "        J.append(cost)\n",
    "\n",
    "        gradient = np.sum(X.T @ error) / m\n",
    "\n",
    "        m_adam = (beta1 * m_adam) + ((1 - beta1) * gradient)\n",
    "\n",
    "        v = (beta2 * v) + ((1 - beta2) * gradient**2)\n",
    "\n",
    "        bias = counter + 1\n",
    "        m_adam = m_adam / (1 - beta1**bias)\n",
    "        v = v / (1 - beta2**bias)\n",
    "        thetas = thetas - ((alpha * m_adam) / (np.sqrt(v) + epsilon))\n",
    "\n",
    "        if abs(old_cost - cost) < 1e-3:\n",
    "            break\n",
    "        old_cost = cost\n",
    "        counter += 1\n",
    "    y_predicted = X @ thetas\n",
    "    return J, y_predicted, counter"
   ]
  },
  {
   "cell_type": "code",
   "execution_count": 97,
   "metadata": {},
   "outputs": [
    {
     "name": "stdout",
     "output_type": "stream",
     "text": [
      "it tooks 85 iteration\n",
      "r2_score = 0.9553867994602726\n"
     ]
    }
   ],
   "source": [
    "J, y_predicted, counter = gd_adam_multivars(X, y, 0.6, 0.2, 0.9, 1e-8, 1000)\n",
    "print(f\"it tooks {counter} iteration\")\n",
    "print(f\"r2_score = {r2_score(y_predicted, y)}\")"
   ]
  },
  {
   "cell_type": "code",
   "execution_count": null,
   "metadata": {},
   "outputs": [],
   "source": []
  }
 ],
 "metadata": {
  "interpreter": {
   "hash": "d70464d9d8a603a2b22e95b93fed9b01d6d4fb83a3a9ff7e8b9f3cb437fae4aa"
  },
  "kernelspec": {
   "display_name": "Python 3.7.1 64-bit",
   "language": "python",
   "name": "python3"
  },
  "language_info": {
   "codemirror_mode": {
    "name": "ipython",
    "version": 3
   },
   "file_extension": ".py",
   "mimetype": "text/x-python",
   "name": "python",
   "nbconvert_exporter": "python",
   "pygments_lexer": "ipython3",
   "version": "3.7.1"
  },
  "orig_nbformat": 4
 },
 "nbformat": 4,
 "nbformat_minor": 2
}
