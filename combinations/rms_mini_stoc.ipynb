{
 "cells": [
  {
   "cell_type": "markdown",
   "metadata": {},
   "source": [
    "## RMSProp combination with mini batch then stochastic "
   ]
  },
  {
   "cell_type": "code",
   "execution_count": 2,
   "metadata": {},
   "outputs": [],
   "source": [
    "import numpy as np\n",
    "import matplotlib.pyplot as plt\n",
    "from sklearn.metrics import r2_score"
   ]
  },
  {
   "cell_type": "markdown",
   "metadata": {},
   "source": [
    "#### data prepare"
   ]
  },
  {
   "cell_type": "code",
   "execution_count": 3,
   "metadata": {},
   "outputs": [],
   "source": [
    "data = np.loadtxt(\"MultipleLR.csv\", delimiter=\",\")\n",
    "X = data[:, 0:3]\n",
    "ones = np.ones(len(X))\n",
    "X = np.insert(X, 0, ones, axis=1)\n",
    "y = data[:, -1]"
   ]
  },
  {
   "cell_type": "markdown",
   "metadata": {},
   "source": [
    "#### RMSProp in mini batch"
   ]
  },
  {
   "cell_type": "code",
   "execution_count": 4,
   "metadata": {},
   "outputs": [],
   "source": [
    "def RMSProp_mini_batch(X, y, alpha, beta, epsilon, iterations, batch_size):\n",
    "    m, n = X.shape\n",
    "    thetas = np.zeros((n, 1))\n",
    "    v = 0\n",
    "    J = []\n",
    "    old_cost = 0\n",
    "    counter = 0\n",
    "    for _ in range(iterations):\n",
    "        for i in range(0, m, batch_size):\n",
    "\n",
    "            x_batched = X[i : i + batch_size]\n",
    "            y_batched = y[i : i + batch_size]\n",
    "\n",
    "            hyp = np.dot(x_batched, thetas)\n",
    "            \n",
    "            error = hyp - y_batched.reshape(len(y_batched), 1)\n",
    "            cost = np.sum((error)**2) / (2*len(y_batched))\n",
    "            J.append(cost)\n",
    "            gradient = np.sum(x_batched.T @ error) / len(y_batched)\n",
    "\n",
    "            v = (beta * v) + ((1 - beta) * gradient**2)\n",
    "            thetas = thetas - ((alpha * gradient) / (np.sqrt(v) + epsilon))\n",
    "\n",
    "        if abs(old_cost - cost) < 1e-3:\n",
    "            break\n",
    "        old_cost = cost\n",
    "        counter += 1\n",
    "    y_predicted = X @ thetas\n",
    "    return J, counter, y_predicted"
   ]
  },
  {
   "cell_type": "code",
   "execution_count": 9,
   "metadata": {},
   "outputs": [
    {
     "name": "stdout",
     "output_type": "stream",
     "text": [
      "epochs = 16\n",
      "r2_score = 0.9708987417613048\n"
     ]
    }
   ],
   "source": [
    "J, counter, y_predicted = RMSProp_mini_batch(X, y, 0.01, 0.3, 1e-8, 1000, 5)\n",
    "print(f\"epochs = {counter}\")\n",
    "print(f\"r2_score = {r2_score(y_predicted, y)}\")"
   ]
  },
  {
   "cell_type": "markdown",
   "metadata": {},
   "source": [
    "### RMSProp in stchastic"
   ]
  },
  {
   "cell_type": "code",
   "execution_count": 6,
   "metadata": {},
   "outputs": [],
   "source": [
    "def RMSProp_stochastic(X, y, alpha, beta, epsilon, iterations):\n",
    "    m, n = X.shape\n",
    "    thetas = np.zeros((n, 1))\n",
    "    v = 0\n",
    "    J = []\n",
    "    old_cost = 0\n",
    "    counter = 0\n",
    "    for _ in range(iterations):\n",
    "        for i in range(0, m):\n",
    "            hyp = np.dot(X[i].reshape(1, n), thetas)\n",
    "            \n",
    "            error = hyp - y[i]\n",
    "            cost = error**2\n",
    "            J.append(cost)\n",
    "            \n",
    "            gradient = (X[i].reshape(1, n).T @ error) * 2\n",
    "\n",
    "            v = (beta * v) + ((1 - beta) * gradient**2)\n",
    "            thetas = thetas - ((alpha * gradient) / (np.sqrt(v) + epsilon))\n",
    "            \n",
    "        if abs(old_cost - cost) < 1e-3:\n",
    "            break\n",
    "        old_cost = cost\n",
    "        counter += 1\n",
    "    y_predicted = X @ thetas\n",
    "    return J, counter, y_predicted"
   ]
  },
  {
   "cell_type": "code",
   "execution_count": 8,
   "metadata": {},
   "outputs": [
    {
     "name": "stdout",
     "output_type": "stream",
     "text": [
      "epochs = 1\n",
      "r2_score = 0.9780529187065564\n"
     ]
    }
   ],
   "source": [
    "J, counter, y_predicted = RMSProp_stochastic(X, y, 0.01, 0.999, 1e-8, 1000)\n",
    "print(f\"epochs = {counter}\")\n",
    "print(f\"r2_score = {r2_score(y_predicted, y)}\")"
   ]
  },
  {
   "cell_type": "code",
   "execution_count": null,
   "metadata": {},
   "outputs": [],
   "source": []
  }
 ],
 "metadata": {
  "interpreter": {
   "hash": "d70464d9d8a603a2b22e95b93fed9b01d6d4fb83a3a9ff7e8b9f3cb437fae4aa"
  },
  "kernelspec": {
   "display_name": "Python 3.7.1 64-bit",
   "language": "python",
   "name": "python3"
  },
  "language_info": {
   "codemirror_mode": {
    "name": "ipython",
    "version": 3
   },
   "file_extension": ".py",
   "mimetype": "text/x-python",
   "name": "python",
   "nbconvert_exporter": "python",
   "pygments_lexer": "ipython3",
   "version": "3.7.1"
  },
  "orig_nbformat": 4
 },
 "nbformat": 4,
 "nbformat_minor": 2
}
