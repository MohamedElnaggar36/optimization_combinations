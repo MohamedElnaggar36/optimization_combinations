{
 "cells": [
  {
   "cell_type": "markdown",
   "metadata": {},
   "source": [
    "### combination of adagrad with mini batch then stochastic in multivariable"
   ]
  },
  {
   "cell_type": "code",
   "execution_count": 2,
   "metadata": {},
   "outputs": [],
   "source": [
    "import numpy as np\n",
    "import matplotlib.pyplot as plt\n",
    "from sklearn.metrics import r2_score"
   ]
  },
  {
   "cell_type": "markdown",
   "metadata": {},
   "source": [
    "#### read data"
   ]
  },
  {
   "cell_type": "code",
   "execution_count": 3,
   "metadata": {},
   "outputs": [],
   "source": [
    "data = np.loadtxt(\"MultipleLR.csv\", delimiter=\",\")\n",
    "X = data[:, 0:3]\n",
    "ones = np.ones(len(X))\n",
    "X = np.insert(X, 0, ones, axis=1)\n",
    "y = data[:, -1]"
   ]
  },
  {
   "cell_type": "markdown",
   "metadata": {},
   "source": [
    "#### Adagrad in mini batch "
   ]
  },
  {
   "cell_type": "code",
   "execution_count": 4,
   "metadata": {},
   "outputs": [],
   "source": [
    "def adagrad_mini_batch(X, y, alpha, epsilon, iterations, batch_size):\n",
    "    m, n = X.shape\n",
    "    thetas = np.zeros((n, 1))\n",
    "    v = 0\n",
    "    J = []\n",
    "    old_cost = 0\n",
    "    counter = 0\n",
    "    for _ in range(iterations):\n",
    "        for i in range(0, m, batch_size):\n",
    "\n",
    "            x_batched = X[i : i + batch_size]\n",
    "            y_batched = y[i : i + batch_size]\n",
    "\n",
    "            hyp = np.dot(x_batched, thetas)\n",
    "            \n",
    "            error = hyp - y_batched.reshape(len(y_batched), 1)\n",
    "            cost = np.sum((error)**2) / (2*len(y_batched))\n",
    "            J.append(cost)\n",
    "            gradient = np.sum(x_batched.T @ error) / len(y_batched)\n",
    "\n",
    "            v = v + gradient**2\n",
    "            thetas = thetas - ((alpha * gradient) / (np.sqrt(v) + epsilon))\n",
    "        if abs(old_cost - cost) < 1e-3:\n",
    "            break\n",
    "        old_cost = cost\n",
    "        counter += 1\n",
    "    y_predicted = X @ thetas\n",
    "    return J, counter, y_predicted"
   ]
  },
  {
   "cell_type": "code",
   "execution_count": 5,
   "metadata": {},
   "outputs": [
    {
     "name": "stdout",
     "output_type": "stream",
     "text": [
      "iteration = 35\n",
      "r2_score = 0.9773599102436411\n"
     ]
    }
   ],
   "source": [
    "J, counter, y_predicted = adagrad_mini_batch(X, y, 0.1, 1e-8, 1000, 5)\n",
    "print(f\"iteration = {counter}\")\n",
    "print(f\"r2_score = {r2_score(y_predicted, y)}\")"
   ]
  },
  {
   "cell_type": "markdown",
   "metadata": {},
   "source": [
    "#### Adagrad in stochastic"
   ]
  },
  {
   "cell_type": "code",
   "execution_count": 6,
   "metadata": {},
   "outputs": [],
   "source": [
    "def adagrad_stochastic(X, y, alpha, epsilon, iterations):\n",
    "    m, n = X.shape\n",
    "    thetas = np.zeros((n, 1))\n",
    "    v = 0\n",
    "    J = []\n",
    "    old_cost = 0\n",
    "    counter = 0\n",
    "    for _ in range(iterations):\n",
    "        for i in range(0, m):\n",
    "            hyp = np.dot(X[i].reshape(1, n), thetas)\n",
    "            \n",
    "            error = hyp - y[i]\n",
    "            cost = error**2\n",
    "            J.append(cost)\n",
    "            \n",
    "            gradient = (X[i].reshape(1, n).T @ error) * 2\n",
    "\n",
    "            v = v + gradient**2\n",
    "            thetas = thetas - ((alpha * gradient) / (np.sqrt(v) + epsilon))\n",
    "        if abs(old_cost - cost) < 1e-3:\n",
    "            break\n",
    "        old_cost = cost\n",
    "        counter += 1\n",
    "    y_predicted = X @ thetas\n",
    "    return J, counter, y_predicted"
   ]
  },
  {
   "cell_type": "code",
   "execution_count": 7,
   "metadata": {},
   "outputs": [
    {
     "name": "stdout",
     "output_type": "stream",
     "text": [
      "iteration = 7\n",
      "r2_score = 0.9777833578571621\n"
     ]
    }
   ],
   "source": [
    "J, counter, y_predicted = adagrad_stochastic(X, y, 0.1, 1e-8, 1000)\n",
    "print(f\"iteration = {counter}\")\n",
    "print(f\"r2_score = {r2_score(y_predicted, y)}\")"
   ]
  },
  {
   "cell_type": "code",
   "execution_count": null,
   "metadata": {},
   "outputs": [],
   "source": []
  }
 ],
 "metadata": {
  "interpreter": {
   "hash": "d70464d9d8a603a2b22e95b93fed9b01d6d4fb83a3a9ff7e8b9f3cb437fae4aa"
  },
  "kernelspec": {
   "display_name": "Python 3.7.1 64-bit",
   "language": "python",
   "name": "python3"
  },
  "language_info": {
   "codemirror_mode": {
    "name": "ipython",
    "version": 3
   },
   "file_extension": ".py",
   "mimetype": "text/x-python",
   "name": "python",
   "nbconvert_exporter": "python",
   "pygments_lexer": "ipython3",
   "version": "3.7.1"
  },
  "orig_nbformat": 4
 },
 "nbformat": 4,
 "nbformat_minor": 2
}
