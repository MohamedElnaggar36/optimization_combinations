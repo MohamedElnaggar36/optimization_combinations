{
 "cells": [
  {
   "cell_type": "markdown",
   "metadata": {},
   "source": [
    "### combination between adam and mini_batch then with stochaistic multivariable gradient descent"
   ]
  },
  {
   "cell_type": "code",
   "execution_count": 249,
   "metadata": {},
   "outputs": [],
   "source": [
    "import numpy as np\n",
    "import matplotlib.pyplot as plt\n",
    "from sklearn.metrics import r2_score"
   ]
  },
  {
   "cell_type": "markdown",
   "metadata": {},
   "source": [
    "##### read and prepare data"
   ]
  },
  {
   "cell_type": "code",
   "execution_count": 250,
   "metadata": {},
   "outputs": [
    {
     "name": "stdout",
     "output_type": "stream",
     "text": [
      "X size = (25, 4)\n",
      "y size = (25,)\n"
     ]
    }
   ],
   "source": [
    "data = np.loadtxt(\"../MultipleLR.csv\", delimiter=\",\")\n",
    "X = data[:, 0:3]\n",
    "ones = np.ones(len(X))\n",
    "X = np.insert(X, 0, ones, axis=1)\n",
    "y = data[:, -1]\n",
    "print(f\"X size = {X.shape}\")\n",
    "print(f\"y size = {y.shape}\")"
   ]
  },
  {
   "cell_type": "markdown",
   "metadata": {},
   "source": [
    "#### Adam in mini batch"
   ]
  },
  {
   "cell_type": "code",
   "execution_count": 475,
   "metadata": {},
   "outputs": [],
   "source": [
    "def adam_mini_batch(X, y, alpha, beta1, beta2, epsilon, iterations, batch_size):\n",
    "    m, n = X.shape\n",
    "    thetas = np.zeros((n, 1))\n",
    "    v = 0\n",
    "    m_adam = 0\n",
    "    J = []\n",
    "    old_cost = 0\n",
    "    counter = 0\n",
    "    for _ in range(iterations):\n",
    "        inner_count = 0\n",
    "        for i in range(0, m, batch_size):\n",
    "\n",
    "            x_batched = X[i : i + batch_size]\n",
    "            y_batched = y[i : i + batch_size]\n",
    "\n",
    "            hyp = np.dot(x_batched, thetas)\n",
    "            \n",
    "            error = hyp - y_batched.reshape(len(y_batched), 1)\n",
    "            cost = np.sum((error)**2) / (2*len(y_batched))\n",
    "            J.append(cost)\n",
    "            \n",
    "            gradient = np.sum(x_batched.T @ error) / len(y_batched)\n",
    "\n",
    "            m_adam = (beta1 * m_adam) + ((1 - beta1) * gradient)\n",
    "            v = (beta2 * v) + ((1 - beta2) * gradient**2)\n",
    "\n",
    "            bias = inner_count + 1\n",
    "            m_adam = m_adam / (1 - beta1**bias)\n",
    "            v = v / (1 - beta2**bias)\n",
    "            thetas = thetas - ((alpha * m_adam) / (np.sqrt(v) + epsilon))\n",
    "            inner_count += 1\n",
    "            \n",
    "        if abs(old_cost - cost) < 1e-3:\n",
    "            break\n",
    "        old_cost = cost\n",
    "        counter += 1\n",
    "    y_predicted = X @ thetas\n",
    "    return J, counter, y_predicted"
   ]
  },
  {
   "cell_type": "code",
   "execution_count": 476,
   "metadata": {},
   "outputs": [
    {
     "name": "stdout",
     "output_type": "stream",
     "text": [
      "epochs = 19\n",
      "r2_score = 0.9528756927122759\n"
     ]
    }
   ],
   "source": [
    "J, counter, y_predicted = adam_mini_batch(X, y, 0.1, 0.2, 0.5, 1e-8, 1000, 5)\n",
    "print(f\"epochs = {counter}\")\n",
    "print(f\"r2_score = {r2_score(y_predicted, y)}\")"
   ]
  },
  {
   "cell_type": "code",
   "execution_count": 253,
   "metadata": {},
   "outputs": [
    {
     "data": {
      "text/plain": [
       "[<matplotlib.lines.Line2D at 0x1c817a359e8>]"
      ]
     },
     "execution_count": 253,
     "metadata": {},
     "output_type": "execute_result"
    },
    {
     "data": {
      "image/png": "[encoded data removed]",
      "text/plain": [
       "<Figure size 432x288 with 1 Axes>"
      ]
     },
     "metadata": {
      "needs_background": "light"
     },
     "output_type": "display_data"
    }
   ],
   "source": [
    "plt.plot(J)"
   ]
  },
  {
   "cell_type": "markdown",
   "metadata": {},
   "source": [
    "### Adam in stochastic"
   ]
  },
  {
   "cell_type": "code",
   "execution_count": 517,
   "metadata": {},
   "outputs": [],
   "source": [
    "def adam_stochastic(X, y, alpha, beta1, beta2, epsilon, iterations):\n",
    "    m, n = X.shape\n",
    "    thetas = np.zeros((n, 1))\n",
    "    v = 0\n",
    "    m_adam = 0\n",
    "    J = []\n",
    "    old_cost = 0\n",
    "    counter = 0\n",
    "    for _ in range(iterations):\n",
    "        inner_count = 0\n",
    "        for i in range(0, m):\n",
    "            hyp = np.dot(X[i].reshape(1, n), thetas)\n",
    "            \n",
    "            error = hyp - y[i]\n",
    "            cost = error**2\n",
    "            J.append(cost)\n",
    "            \n",
    "            gradient = (X[i].reshape(1, n).T @ error) * 2\n",
    "\n",
    "            m_adam = (beta1 * m_adam) + ((1 - beta1) * gradient)\n",
    "            v = (beta2 * v) + ((1 - beta2) * gradient**2)\n",
    "            \n",
    "            bias = inner_count + 1\n",
    "            m_adam = m_adam / (1 - (beta1)**bias)\n",
    "            v = v / (1 - (beta2)**bias)\n",
    "            thetas = thetas - ((alpha * m_adam) / (np.sqrt(v) + epsilon))\n",
    "            inner_count += 1\n",
    "\n",
    "        if abs(old_cost - cost) < 1e-3:\n",
    "            break\n",
    "        old_cost = cost\n",
    "        counter += 1\n",
    "    y_predicted = X @ thetas\n",
    "    return J, counter, y_predicted"
   ]
  },
  {
   "cell_type": "code",
   "execution_count": 518,
   "metadata": {},
   "outputs": [
    {
     "name": "stdout",
     "output_type": "stream",
     "text": [
      "iterations = 34\n",
      "r2_score = 0.9773679525401266\n"
     ]
    }
   ],
   "source": [
    "J, counter, y_predicted = adam_stochastic(X, y, 0.001, 0.1, 0.4, 1e-8, 1000)\n",
    "print(f\"iterations = {counter}\")\n",
    "print(f\"r2_score = {r2_score(y_predicted, y)}\")"
   ]
  },
  {
   "cell_type": "code",
   "execution_count": null,
   "metadata": {},
   "outputs": [],
   "source": []
  }
 ],
 "metadata": {
  "interpreter": {
   "hash": "d70464d9d8a603a2b22e95b93fed9b01d6d4fb83a3a9ff7e8b9f3cb437fae4aa"
  },
  "kernelspec": {
   "display_name": "Python 3.7.1 64-bit",
   "language": "python",
   "name": "python3"
  },
  "language_info": {
   "codemirror_mode": {
    "name": "ipython",
    "version": 3
   },
   "file_extension": ".py",
   "mimetype": "text/x-python",
   "name": "python",
   "nbconvert_exporter": "python",
   "pygments_lexer": "ipython3",
   "version": "3.7.1"
  },
  "orig_nbformat": 4
 },
 "nbformat": 4,
 "nbformat_minor": 2
}
