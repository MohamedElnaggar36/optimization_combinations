{
 "cells": [
  {
   "cell_type": "markdown",
   "metadata": {},
   "source": [
    "## Momentum and NAG with multivariable"
   ]
  },
  {
   "cell_type": "code",
   "execution_count": 2,
   "metadata": {},
   "outputs": [],
   "source": [
    "import numpy as np\n",
    "import matplotlib.pyplot as plt\n",
    "from sklearn.metrics import r2_score"
   ]
  },
  {
   "cell_type": "markdown",
   "metadata": {},
   "source": [
    "#### read and preapare data"
   ]
  },
  {
   "cell_type": "code",
   "execution_count": 3,
   "metadata": {},
   "outputs": [],
   "source": [
    "data = np.loadtxt(\"MultipleLR.csv\", delimiter=\",\")\n",
    "X = data[:, 0:3]\n",
    "ones = np.ones(len(X))\n",
    "X = np.insert(X, 0, ones, axis=1)\n",
    "y = data[:, -1]"
   ]
  },
  {
   "cell_type": "markdown",
   "metadata": {},
   "source": [
    "### 1 - Momentum Gradient Descent"
   ]
  },
  {
   "cell_type": "code",
   "execution_count": 4,
   "metadata": {},
   "outputs": [],
   "source": [
    "def gd_momentum_multivars(X, y, alpha, gamma, iterations):\n",
    "    m, n = X.shape\n",
    "    thetas = np.zeros((n, 1))\n",
    "    J = []\n",
    "    old_cost = 0\n",
    "    counter = 0\n",
    "    v = 0\n",
    "    for _ in range(iterations):\n",
    "        hyp = np.dot(X, thetas)\n",
    "\n",
    "        error = hyp - y\n",
    "        new_cost = np.sum((error**2)) / (2 * m)\n",
    "        J.append(new_cost)\n",
    "\n",
    "        gradient = (1/m) * np.sum(X.T @ error)\n",
    "        \n",
    "        thetas = thetas - (alpha * gradient)\n",
    "\n",
    "        v = (gamma * v) + (alpha * gradient)\n",
    "\n",
    "        thetas = thetas - v\n",
    "        \n",
    "        if abs(old_cost - new_cost ) < 1e-3:\n",
    "            break\n",
    "        old_cost = new_cost\n",
    "        counter += 1\n",
    "    y_predicted = X @ thetas\n",
    "    return J, counter, y_predicted"
   ]
  },
  {
   "cell_type": "code",
   "execution_count": 5,
   "metadata": {},
   "outputs": [
    {
     "name": "stdout",
     "output_type": "stream",
     "text": [
      "it tooks 27 iteration\n",
      "r2_score = 0.9551993132307558\n"
     ]
    }
   ],
   "source": [
    "J, counter, y_predicted = gd_momentum_multivars(X, y, 0.0000001, 0.6, 1000)\n",
    "print(f\"it tooks {counter} iteration\")\n",
    "print(f\"r2_score = {r2_score(y_predicted, y)}\")"
   ]
  },
  {
   "cell_type": "markdown",
   "metadata": {},
   "source": [
    "### 2 - NAG"
   ]
  },
  {
   "cell_type": "code",
   "execution_count": 6,
   "metadata": {},
   "outputs": [],
   "source": [
    "def gd_NAG_multivars(X, y, alpha, gamma, iterations):\n",
    "    m, n = X.shape\n",
    "    J = []\n",
    "    v = 0\n",
    "    gradient = 0\n",
    "    thetas_temp = np.zeros((n, 1))\n",
    "    old_cost = 0\n",
    "    counter = 0\n",
    "    for _ in range(iterations):\n",
    "        thetas_temp = thetas_temp - (gamma * v)\n",
    "        hyp = np.dot(X, thetas_temp)\n",
    "\n",
    "        error = hyp - y\n",
    "        cost = np.sum(error**2) / (2 * m)\n",
    "        J.append(cost)\n",
    "        \n",
    "        \n",
    "        gradient = (1/m) * np.sum(X.T @ error)\n",
    "\n",
    "        v = (gamma * v) + (alpha * gradient)\n",
    "\n",
    "        thetas = thetas_temp - (alpha * gradient)\n",
    "\n",
    "        if abs(old_cost - cost) < 1e-3:\n",
    "            break\n",
    "        old_cost = cost\n",
    "        counter += 1\n",
    "        \n",
    "    y_predicted = X @ thetas\n",
    "    return J, counter, y_predicted"
   ]
  },
  {
   "cell_type": "code",
   "execution_count": 7,
   "metadata": {},
   "outputs": [
    {
     "name": "stdout",
     "output_type": "stream",
     "text": [
      "it tooks 14 iteration\n",
      "r2_score = 0.955084877864841\n"
     ]
    }
   ],
   "source": [
    "J, counter, y_predicted = gd_NAG_multivars(X, y, 0.000001, 0.3, 1000)\n",
    "print(f\"it tooks {counter} iteration\")\n",
    "print(f\"r2_score = {r2_score(y_predicted, y)}\")"
   ]
  },
  {
   "cell_type": "code",
   "execution_count": null,
   "metadata": {},
   "outputs": [],
   "source": []
  }
 ],
 "metadata": {
  "interpreter": {
   "hash": "d70464d9d8a603a2b22e95b93fed9b01d6d4fb83a3a9ff7e8b9f3cb437fae4aa"
  },
  "kernelspec": {
   "display_name": "Python 3.7.1 64-bit",
   "language": "python",
   "name": "python3"
  },
  "language_info": {
   "codemirror_mode": {
    "name": "ipython",
    "version": 3
   },
   "file_extension": ".py",
   "mimetype": "text/x-python",
   "name": "python",
   "nbconvert_exporter": "python",
   "pygments_lexer": "ipython3",
   "version": "3.7.1"
  },
  "orig_nbformat": 4
 },
 "nbformat": 4,
 "nbformat_minor": 2
}
